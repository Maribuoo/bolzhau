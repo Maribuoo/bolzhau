{
 "cells": [
  {
   "cell_type": "code",
   "execution_count": 2,
   "id": "28d2a19c-163f-411d-9ca1-d3d71e806c14",
   "metadata": {},
   "outputs": [
    {
     "name": "stdout",
     "output_type": "stream",
     "text": [
      "Defaulting to user installation because normal site-packages is not writeable\n",
      "Requirement already satisfied: numpy in c:\\users\\ww\\appdata\\roaming\\python\\python312\\site-packages (1.26.4)\n"
     ]
    }
   ],
   "source": [
    "!pip install numpy"
   ]
  },
  {
   "cell_type": "code",
   "execution_count": 3,
   "id": "e50306a4-f554-4bb7-a4a6-14889029a034",
   "metadata": {},
   "outputs": [
    {
     "name": "stdout",
     "output_type": "stream",
     "text": [
      "Defaulting to user installation because normal site-packages is not writeable\n",
      "Collecting tensorflow\n",
      "  Using cached tensorflow-2.17.0-cp312-cp312-win_amd64.whl.metadata (3.2 kB)\n",
      "Collecting tensorflow-intel==2.17.0 (from tensorflow)\n",
      "  Using cached tensorflow_intel-2.17.0-cp312-cp312-win_amd64.whl.metadata (5.0 kB)\n",
      "Requirement already satisfied: absl-py>=1.0.0 in c:\\users\\ww\\appdata\\roaming\\python\\python312\\site-packages (from tensorflow-intel==2.17.0->tensorflow) (2.1.0)\n",
      "Requirement already satisfied: astunparse>=1.6.0 in c:\\users\\ww\\appdata\\roaming\\python\\python312\\site-packages (from tensorflow-intel==2.17.0->tensorflow) (1.6.3)\n",
      "Requirement already satisfied: flatbuffers>=24.3.25 in c:\\users\\ww\\appdata\\roaming\\python\\python312\\site-packages (from tensorflow-intel==2.17.0->tensorflow) (24.3.25)\n",
      "Requirement already satisfied: gast!=0.5.0,!=0.5.1,!=0.5.2,>=0.2.1 in c:\\users\\ww\\appdata\\roaming\\python\\python312\\site-packages (from tensorflow-intel==2.17.0->tensorflow) (0.6.0)\n",
      "Requirement already satisfied: google-pasta>=0.1.1 in c:\\users\\ww\\appdata\\roaming\\python\\python312\\site-packages (from tensorflow-intel==2.17.0->tensorflow) (0.2.0)\n",
      "Requirement already satisfied: h5py>=3.10.0 in c:\\users\\ww\\appdata\\roaming\\python\\python312\\site-packages (from tensorflow-intel==2.17.0->tensorflow) (3.11.0)\n",
      "Requirement already satisfied: libclang>=13.0.0 in c:\\users\\ww\\appdata\\roaming\\python\\python312\\site-packages (from tensorflow-intel==2.17.0->tensorflow) (18.1.1)\n",
      "Requirement already satisfied: ml-dtypes<0.5.0,>=0.3.1 in c:\\users\\ww\\appdata\\roaming\\python\\python312\\site-packages (from tensorflow-intel==2.17.0->tensorflow) (0.4.0)\n",
      "Requirement already satisfied: opt-einsum>=2.3.2 in c:\\users\\ww\\appdata\\roaming\\python\\python312\\site-packages (from tensorflow-intel==2.17.0->tensorflow) (3.3.0)\n",
      "Requirement already satisfied: packaging in c:\\users\\ww\\appdata\\roaming\\python\\python312\\site-packages (from tensorflow-intel==2.17.0->tensorflow) (24.1)\n",
      "Requirement already satisfied: protobuf!=4.21.0,!=4.21.1,!=4.21.2,!=4.21.3,!=4.21.4,!=4.21.5,<5.0.0dev,>=3.20.3 in c:\\users\\ww\\appdata\\roaming\\python\\python312\\site-packages (from tensorflow-intel==2.17.0->tensorflow) (4.25.3)\n",
      "Requirement already satisfied: requests<3,>=2.21.0 in c:\\users\\ww\\appdata\\roaming\\python\\python312\\site-packages (from tensorflow-intel==2.17.0->tensorflow) (2.32.3)\n",
      "Requirement already satisfied: setuptools in c:\\users\\ww\\appdata\\roaming\\python\\python312\\site-packages (from tensorflow-intel==2.17.0->tensorflow) (71.1.0)\n",
      "Requirement already satisfied: six>=1.12.0 in c:\\users\\ww\\appdata\\roaming\\python\\python312\\site-packages (from tensorflow-intel==2.17.0->tensorflow) (1.16.0)\n",
      "Requirement already satisfied: termcolor>=1.1.0 in c:\\users\\ww\\appdata\\roaming\\python\\python312\\site-packages (from tensorflow-intel==2.17.0->tensorflow) (2.4.0)\n",
      "Requirement already satisfied: typing-extensions>=3.6.6 in c:\\users\\ww\\appdata\\roaming\\python\\python312\\site-packages (from tensorflow-intel==2.17.0->tensorflow) (4.12.2)\n",
      "Requirement already satisfied: wrapt>=1.11.0 in c:\\users\\ww\\appdata\\roaming\\python\\python312\\site-packages (from tensorflow-intel==2.17.0->tensorflow) (1.16.0)\n",
      "Requirement already satisfied: grpcio<2.0,>=1.24.3 in c:\\users\\ww\\appdata\\roaming\\python\\python312\\site-packages (from tensorflow-intel==2.17.0->tensorflow) (1.65.1)\n",
      "Requirement already satisfied: tensorboard<2.18,>=2.17 in c:\\users\\ww\\appdata\\roaming\\python\\python312\\site-packages (from tensorflow-intel==2.17.0->tensorflow) (2.17.0)\n",
      "Requirement already satisfied: keras>=3.2.0 in c:\\users\\ww\\appdata\\roaming\\python\\python312\\site-packages (from tensorflow-intel==2.17.0->tensorflow) (3.4.1)\n",
      "Requirement already satisfied: numpy<2.0.0,>=1.26.0 in c:\\users\\ww\\appdata\\roaming\\python\\python312\\site-packages (from tensorflow-intel==2.17.0->tensorflow) (1.26.4)\n",
      "Requirement already satisfied: wheel<1.0,>=0.23.0 in c:\\users\\ww\\appdata\\roaming\\python\\python312\\site-packages (from astunparse>=1.6.0->tensorflow-intel==2.17.0->tensorflow) (0.43.0)\n",
      "Requirement already satisfied: rich in c:\\users\\ww\\appdata\\roaming\\python\\python312\\site-packages (from keras>=3.2.0->tensorflow-intel==2.17.0->tensorflow) (13.7.1)\n",
      "Requirement already satisfied: namex in c:\\users\\ww\\appdata\\roaming\\python\\python312\\site-packages (from keras>=3.2.0->tensorflow-intel==2.17.0->tensorflow) (0.0.8)\n",
      "Requirement already satisfied: optree in c:\\users\\ww\\appdata\\roaming\\python\\python312\\site-packages (from keras>=3.2.0->tensorflow-intel==2.17.0->tensorflow) (0.12.1)\n",
      "Requirement already satisfied: charset-normalizer<4,>=2 in c:\\users\\ww\\appdata\\roaming\\python\\python312\\site-packages (from requests<3,>=2.21.0->tensorflow-intel==2.17.0->tensorflow) (3.3.2)\n",
      "Requirement already satisfied: idna<4,>=2.5 in c:\\users\\ww\\appdata\\roaming\\python\\python312\\site-packages (from requests<3,>=2.21.0->tensorflow-intel==2.17.0->tensorflow) (3.7)\n",
      "Requirement already satisfied: urllib3<3,>=1.21.1 in c:\\users\\ww\\appdata\\roaming\\python\\python312\\site-packages (from requests<3,>=2.21.0->tensorflow-intel==2.17.0->tensorflow) (2.2.2)\n",
      "Requirement already satisfied: certifi>=2017.4.17 in c:\\users\\ww\\appdata\\roaming\\python\\python312\\site-packages (from requests<3,>=2.21.0->tensorflow-intel==2.17.0->tensorflow) (2024.7.4)\n",
      "Requirement already satisfied: markdown>=2.6.8 in c:\\users\\ww\\appdata\\roaming\\python\\python312\\site-packages (from tensorboard<2.18,>=2.17->tensorflow-intel==2.17.0->tensorflow) (3.6)\n",
      "Requirement already satisfied: tensorboard-data-server<0.8.0,>=0.7.0 in c:\\users\\ww\\appdata\\roaming\\python\\python312\\site-packages (from tensorboard<2.18,>=2.17->tensorflow-intel==2.17.0->tensorflow) (0.7.2)\n",
      "Requirement already satisfied: werkzeug>=1.0.1 in c:\\users\\ww\\appdata\\roaming\\python\\python312\\site-packages (from tensorboard<2.18,>=2.17->tensorflow-intel==2.17.0->tensorflow) (3.0.3)\n",
      "Requirement already satisfied: MarkupSafe>=2.1.1 in c:\\users\\ww\\appdata\\roaming\\python\\python312\\site-packages (from werkzeug>=1.0.1->tensorboard<2.18,>=2.17->tensorflow-intel==2.17.0->tensorflow) (2.1.5)\n",
      "Requirement already satisfied: markdown-it-py>=2.2.0 in c:\\users\\ww\\appdata\\roaming\\python\\python312\\site-packages (from rich->keras>=3.2.0->tensorflow-intel==2.17.0->tensorflow) (3.0.0)\n",
      "Requirement already satisfied: pygments<3.0.0,>=2.13.0 in c:\\users\\ww\\appdata\\roaming\\python\\python312\\site-packages (from rich->keras>=3.2.0->tensorflow-intel==2.17.0->tensorflow) (2.18.0)\n",
      "Requirement already satisfied: mdurl~=0.1 in c:\\users\\ww\\appdata\\roaming\\python\\python312\\site-packages (from markdown-it-py>=2.2.0->rich->keras>=3.2.0->tensorflow-intel==2.17.0->tensorflow) (0.1.2)\n",
      "Using cached tensorflow-2.17.0-cp312-cp312-win_amd64.whl (2.0 kB)\n",
      "Using cached tensorflow_intel-2.17.0-cp312-cp312-win_amd64.whl (385.2 MB)\n",
      "Installing collected packages: tensorflow-intel, tensorflow\n",
      "Successfully installed tensorflow-2.17.0 tensorflow-intel-2.17.0\n"
     ]
    }
   ],
   "source": [
    "!pip install tensorflow"
   ]
  },
  {
   "cell_type": "code",
   "execution_count": 7,
   "id": "3b6e06f2-fb9d-47da-a97c-a69c021788ce",
   "metadata": {},
   "outputs": [
    {
     "name": "stdout",
     "output_type": "stream",
     "text": [
      "Defaulting to user installation because normal site-packages is not writeable\n",
      "Collecting matplotlib\n",
      "  Downloading matplotlib-3.9.1-cp312-cp312-win_amd64.whl.metadata (11 kB)\n",
      "Collecting contourpy>=1.0.1 (from matplotlib)\n",
      "  Downloading contourpy-1.2.1-cp312-cp312-win_amd64.whl.metadata (5.8 kB)\n",
      "Collecting cycler>=0.10 (from matplotlib)\n",
      "  Downloading cycler-0.12.1-py3-none-any.whl.metadata (3.8 kB)\n",
      "Collecting fonttools>=4.22.0 (from matplotlib)\n",
      "  Downloading fonttools-4.53.1-cp312-cp312-win_amd64.whl.metadata (165 kB)\n",
      "     ---------------------------------------- 0.0/165.9 kB ? eta -:--:--\n",
      "     ------ ------------------------------ 30.7/165.9 kB 660.6 kB/s eta 0:00:01\n",
      "     ------ ------------------------------ 30.7/165.9 kB 660.6 kB/s eta 0:00:01\n",
      "     --------- --------------------------- 41.0/165.9 kB 279.3 kB/s eta 0:00:01\n",
      "     -------------------- ---------------- 92.2/165.9 kB 476.3 kB/s eta 0:00:01\n",
      "     ------------------------ ----------- 112.6/165.9 kB 467.6 kB/s eta 0:00:01\n",
      "     ------------------------------------ 165.9/165.9 kB 585.2 kB/s eta 0:00:00\n",
      "Collecting kiwisolver>=1.3.1 (from matplotlib)\n",
      "  Downloading kiwisolver-1.4.5-cp312-cp312-win_amd64.whl.metadata (6.5 kB)\n",
      "Requirement already satisfied: numpy>=1.23 in c:\\users\\ww\\appdata\\roaming\\python\\python312\\site-packages (from matplotlib) (1.26.4)\n",
      "Requirement already satisfied: packaging>=20.0 in c:\\users\\ww\\appdata\\roaming\\python\\python312\\site-packages (from matplotlib) (24.1)\n",
      "Collecting pillow>=8 (from matplotlib)\n",
      "  Downloading pillow-10.4.0-cp312-cp312-win_amd64.whl.metadata (9.3 kB)\n",
      "Collecting pyparsing>=2.3.1 (from matplotlib)\n",
      "  Downloading pyparsing-3.1.2-py3-none-any.whl.metadata (5.1 kB)\n",
      "Requirement already satisfied: python-dateutil>=2.7 in c:\\users\\ww\\appdata\\roaming\\python\\python312\\site-packages (from matplotlib) (2.9.0.post0)\n",
      "Requirement already satisfied: six>=1.5 in c:\\users\\ww\\appdata\\roaming\\python\\python312\\site-packages (from python-dateutil>=2.7->matplotlib) (1.16.0)\n",
      "Downloading matplotlib-3.9.1-cp312-cp312-win_amd64.whl (8.0 MB)\n",
      "   ---------------------------------------- 0.0/8.0 MB ? eta -:--:--\n",
      "    --------------------------------------- 0.1/8.0 MB 3.6 MB/s eta 0:00:03\n",
      "    --------------------------------------- 0.1/8.0 MB 3.6 MB/s eta 0:00:03\n",
      "    --------------------------------------- 0.2/8.0 MB 1.3 MB/s eta 0:00:06\n",
      "   - -------------------------------------- 0.3/8.0 MB 1.6 MB/s eta 0:00:05\n",
      "   - -------------------------------------- 0.3/8.0 MB 1.6 MB/s eta 0:00:05\n",
      "   -- ------------------------------------- 0.4/8.0 MB 1.5 MB/s eta 0:00:06\n",
      "   -- ------------------------------------- 0.5/8.0 MB 1.6 MB/s eta 0:00:05\n",
      "   --- ------------------------------------ 0.6/8.0 MB 1.6 MB/s eta 0:00:05\n",
      "   ---- ----------------------------------- 0.9/8.0 MB 2.2 MB/s eta 0:00:04\n",
      "   ----- ---------------------------------- 1.1/8.0 MB 2.4 MB/s eta 0:00:03\n",
      "   ------ --------------------------------- 1.3/8.0 MB 2.6 MB/s eta 0:00:03\n",
      "   -------- ------------------------------- 1.7/8.0 MB 3.0 MB/s eta 0:00:03\n",
      "   ---------- ----------------------------- 2.1/8.0 MB 3.4 MB/s eta 0:00:02\n",
      "   ----------- ---------------------------- 2.3/8.0 MB 3.5 MB/s eta 0:00:02\n",
      "   ------------- -------------------------- 2.7/8.0 MB 3.8 MB/s eta 0:00:02\n",
      "   --------------- ------------------------ 3.1/8.0 MB 4.1 MB/s eta 0:00:02\n",
      "   ----------------- ---------------------- 3.5/8.0 MB 4.3 MB/s eta 0:00:02\n",
      "   ------------------- -------------------- 3.8/8.0 MB 4.5 MB/s eta 0:00:01\n",
      "   --------------------- ------------------ 4.2/8.0 MB 4.7 MB/s eta 0:00:01\n",
      "   ---------------------- ----------------- 4.6/8.0 MB 4.9 MB/s eta 0:00:01\n",
      "   ------------------------ --------------- 4.9/8.0 MB 5.0 MB/s eta 0:00:01\n",
      "   -------------------------- ------------- 5.3/8.0 MB 5.1 MB/s eta 0:00:01\n",
      "   ---------------------------- ----------- 5.6/8.0 MB 5.2 MB/s eta 0:00:01\n",
      "   ------------------------------ --------- 6.0/8.0 MB 5.3 MB/s eta 0:00:01\n",
      "   -------------------------------- ------- 6.4/8.0 MB 5.5 MB/s eta 0:00:01\n",
      "   ---------------------------------- ----- 6.8/8.0 MB 5.6 MB/s eta 0:00:01\n",
      "   ----------------------------------- ---- 7.1/8.0 MB 5.6 MB/s eta 0:00:01\n",
      "   ------------------------------------- -- 7.5/8.0 MB 5.7 MB/s eta 0:00:01\n",
      "   ---------------------------------------  7.8/8.0 MB 5.8 MB/s eta 0:00:01\n",
      "   ---------------------------------------  8.0/8.0 MB 5.8 MB/s eta 0:00:01\n",
      "   ---------------------------------------- 8.0/8.0 MB 5.6 MB/s eta 0:00:00\n",
      "Downloading contourpy-1.2.1-cp312-cp312-win_amd64.whl (189 kB)\n",
      "   ---------------------------------------- 0.0/189.9 kB ? eta -:--:--\n",
      "   ---------------------------------------- 189.9/189.9 kB 3.8 MB/s eta 0:00:00\n",
      "Downloading cycler-0.12.1-py3-none-any.whl (8.3 kB)\n",
      "Downloading fonttools-4.53.1-cp312-cp312-win_amd64.whl (2.2 MB)\n",
      "   ---------------------------------------- 0.0/2.2 MB ? eta -:--:--\n",
      "   -------- ------------------------------- 0.4/2.2 MB 9.2 MB/s eta 0:00:01\n",
      "   -------------- ------------------------- 0.8/2.2 MB 8.2 MB/s eta 0:00:01\n",
      "   -------------------- ------------------- 1.1/2.2 MB 8.0 MB/s eta 0:00:01\n",
      "   ---------------------------- ----------- 1.5/2.2 MB 8.1 MB/s eta 0:00:01\n",
      "   ---------------------------------- ----- 1.9/2.2 MB 8.1 MB/s eta 0:00:01\n",
      "   ---------------------------------------  2.2/2.2 MB 8.2 MB/s eta 0:00:01\n",
      "   ---------------------------------------- 2.2/2.2 MB 7.4 MB/s eta 0:00:00\n",
      "Downloading kiwisolver-1.4.5-cp312-cp312-win_amd64.whl (56 kB)\n",
      "   ---------------------------------------- 0.0/56.0 kB ? eta -:--:--\n",
      "   ---------------------------------------- 56.0/56.0 kB 2.9 MB/s eta 0:00:00\n",
      "Downloading pillow-10.4.0-cp312-cp312-win_amd64.whl (2.6 MB)\n",
      "   ---------------------------------------- 0.0/2.6 MB ? eta -:--:--\n",
      "   - -------------------------------------- 0.1/2.6 MB 2.6 MB/s eta 0:00:01\n",
      "   ------- -------------------------------- 0.5/2.6 MB 5.8 MB/s eta 0:00:01\n",
      "   ------------ --------------------------- 0.8/2.6 MB 6.5 MB/s eta 0:00:01\n",
      "   ------------------ --------------------- 1.2/2.6 MB 7.0 MB/s eta 0:00:01\n",
      "   ------------------------ --------------- 1.6/2.6 MB 7.2 MB/s eta 0:00:01\n",
      "   ------------------------------ --------- 2.0/2.6 MB 7.3 MB/s eta 0:00:01\n",
      "   ------------------------------------ --- 2.3/2.6 MB 7.5 MB/s eta 0:00:01\n",
      "   ---------------------------------------- 2.6/2.6 MB 7.1 MB/s eta 0:00:00\n",
      "Downloading pyparsing-3.1.2-py3-none-any.whl (103 kB)\n",
      "   ---------------------------------------- 0.0/103.2 kB ? eta -:--:--\n",
      "   ---------------------------------------- 103.2/103.2 kB 5.8 MB/s eta 0:00:00\n",
      "Installing collected packages: pyparsing, pillow, kiwisolver, fonttools, cycler, contourpy, matplotlib\n",
      "Successfully installed contourpy-1.2.1 cycler-0.12.1 fonttools-4.53.1 kiwisolver-1.4.5 matplotlib-3.9.1 pillow-10.4.0 pyparsing-3.1.2\n"
     ]
    }
   ],
   "source": [
    "!pip install matplotlib\n"
   ]
  },
  {
   "cell_type": "code",
   "execution_count": 9,
   "id": "264320db-54d4-4046-ac66-632c634e14f4",
   "metadata": {},
   "outputs": [
    {
     "name": "stdout",
     "output_type": "stream",
     "text": [
      "Defaulting to user installation because normal site-packages is not writeable\n",
      "Collecting seaborn\n",
      "  Downloading seaborn-0.13.2-py3-none-any.whl.metadata (5.4 kB)\n",
      "Requirement already satisfied: numpy!=1.24.0,>=1.20 in c:\\users\\ww\\appdata\\roaming\\python\\python312\\site-packages (from seaborn) (1.26.4)\n",
      "Collecting pandas>=1.2 (from seaborn)\n",
      "  Downloading pandas-2.2.2-cp312-cp312-win_amd64.whl.metadata (19 kB)\n",
      "Requirement already satisfied: matplotlib!=3.6.1,>=3.4 in c:\\users\\ww\\appdata\\roaming\\python\\python312\\site-packages (from seaborn) (3.9.1)\n",
      "Requirement already satisfied: contourpy>=1.0.1 in c:\\users\\ww\\appdata\\roaming\\python\\python312\\site-packages (from matplotlib!=3.6.1,>=3.4->seaborn) (1.2.1)\n",
      "Requirement already satisfied: cycler>=0.10 in c:\\users\\ww\\appdata\\roaming\\python\\python312\\site-packages (from matplotlib!=3.6.1,>=3.4->seaborn) (0.12.1)\n",
      "Requirement already satisfied: fonttools>=4.22.0 in c:\\users\\ww\\appdata\\roaming\\python\\python312\\site-packages (from matplotlib!=3.6.1,>=3.4->seaborn) (4.53.1)\n",
      "Requirement already satisfied: kiwisolver>=1.3.1 in c:\\users\\ww\\appdata\\roaming\\python\\python312\\site-packages (from matplotlib!=3.6.1,>=3.4->seaborn) (1.4.5)\n",
      "Requirement already satisfied: packaging>=20.0 in c:\\users\\ww\\appdata\\roaming\\python\\python312\\site-packages (from matplotlib!=3.6.1,>=3.4->seaborn) (24.1)\n",
      "Requirement already satisfied: pillow>=8 in c:\\users\\ww\\appdata\\roaming\\python\\python312\\site-packages (from matplotlib!=3.6.1,>=3.4->seaborn) (10.4.0)\n",
      "Requirement already satisfied: pyparsing>=2.3.1 in c:\\users\\ww\\appdata\\roaming\\python\\python312\\site-packages (from matplotlib!=3.6.1,>=3.4->seaborn) (3.1.2)\n",
      "Requirement already satisfied: python-dateutil>=2.7 in c:\\users\\ww\\appdata\\roaming\\python\\python312\\site-packages (from matplotlib!=3.6.1,>=3.4->seaborn) (2.9.0.post0)\n",
      "Collecting pytz>=2020.1 (from pandas>=1.2->seaborn)\n",
      "  Downloading pytz-2024.1-py2.py3-none-any.whl.metadata (22 kB)\n",
      "Collecting tzdata>=2022.7 (from pandas>=1.2->seaborn)\n",
      "  Downloading tzdata-2024.1-py2.py3-none-any.whl.metadata (1.4 kB)\n",
      "Requirement already satisfied: six>=1.5 in c:\\users\\ww\\appdata\\roaming\\python\\python312\\site-packages (from python-dateutil>=2.7->matplotlib!=3.6.1,>=3.4->seaborn) (1.16.0)\n",
      "Downloading seaborn-0.13.2-py3-none-any.whl (294 kB)\n",
      "   ---------------------------------------- 0.0/294.9 kB ? eta -:--:--\n",
      "   ---- ----------------------------------- 30.7/294.9 kB 1.3 MB/s eta 0:00:01\n",
      "   ----- --------------------------------- 41.0/294.9 kB 653.6 kB/s eta 0:00:01\n",
      "   -------- ------------------------------ 61.4/294.9 kB 465.5 kB/s eta 0:00:01\n",
      "   --------------- ---------------------- 122.9/294.9 kB 654.9 kB/s eta 0:00:01\n",
      "   ------------------ ------------------- 143.4/294.9 kB 652.5 kB/s eta 0:00:01\n",
      "   ----------------------------- -------- 225.3/294.9 kB 808.4 kB/s eta 0:00:01\n",
      "   -------------------------------- ----- 256.0/294.9 kB 871.5 kB/s eta 0:00:01\n",
      "   -------------------------------------- 294.9/294.9 kB 790.8 kB/s eta 0:00:00\n",
      "Downloading pandas-2.2.2-cp312-cp312-win_amd64.whl (11.5 MB)\n",
      "   ---------------------------------------- 0.0/11.5 MB ? eta -:--:--\n",
      "    --------------------------------------- 0.2/11.5 MB 5.0 MB/s eta 0:00:03\n",
      "   - -------------------------------------- 0.3/11.5 MB 5.3 MB/s eta 0:00:03\n",
      "   - -------------------------------------- 0.4/11.5 MB 3.1 MB/s eta 0:00:04\n",
      "   - -------------------------------------- 0.5/11.5 MB 3.3 MB/s eta 0:00:04\n",
      "   - -------------------------------------- 0.6/11.5 MB 2.4 MB/s eta 0:00:05\n",
      "   -- ------------------------------------- 0.6/11.5 MB 2.5 MB/s eta 0:00:05\n",
      "   -- ------------------------------------- 0.6/11.5 MB 2.5 MB/s eta 0:00:05\n",
      "   -- ------------------------------------- 0.6/11.5 MB 1.6 MB/s eta 0:00:07\n",
      "   -- ------------------------------------- 0.9/11.5 MB 2.0 MB/s eta 0:00:06\n",
      "   --- ------------------------------------ 0.9/11.5 MB 2.1 MB/s eta 0:00:05\n",
      "   ----- ---------------------------------- 1.6/11.5 MB 3.0 MB/s eta 0:00:04\n",
      "   ------ --------------------------------- 1.8/11.5 MB 3.2 MB/s eta 0:00:04\n",
      "   ------ --------------------------------- 1.9/11.5 MB 3.2 MB/s eta 0:00:04\n",
      "   ------- -------------------------------- 2.2/11.5 MB 3.3 MB/s eta 0:00:03\n",
      "   -------- ------------------------------- 2.5/11.5 MB 3.5 MB/s eta 0:00:03\n",
      "   --------- ------------------------------ 2.6/11.5 MB 3.5 MB/s eta 0:00:03\n",
      "   ---------- ----------------------------- 2.9/11.5 MB 3.6 MB/s eta 0:00:03\n",
      "   ----------- ---------------------------- 3.2/11.5 MB 3.8 MB/s eta 0:00:03\n",
      "   ----------- ---------------------------- 3.4/11.5 MB 3.8 MB/s eta 0:00:03\n",
      "   ------------ --------------------------- 3.7/11.5 MB 3.9 MB/s eta 0:00:02\n",
      "   ------------- -------------------------- 3.9/11.5 MB 4.0 MB/s eta 0:00:02\n",
      "   -------------- ------------------------- 4.2/11.5 MB 4.0 MB/s eta 0:00:02\n",
      "   --------------- ------------------------ 4.4/11.5 MB 4.1 MB/s eta 0:00:02\n",
      "   ---------------- ----------------------- 4.7/11.5 MB 4.1 MB/s eta 0:00:02\n",
      "   ----------------- ---------------------- 4.9/11.5 MB 4.2 MB/s eta 0:00:02\n",
      "   ----------------- ---------------------- 5.1/11.5 MB 4.2 MB/s eta 0:00:02\n",
      "   ------------------ --------------------- 5.4/11.5 MB 4.3 MB/s eta 0:00:02\n",
      "   ------------------- -------------------- 5.7/11.5 MB 4.4 MB/s eta 0:00:02\n",
      "   -------------------- ------------------- 5.9/11.5 MB 4.3 MB/s eta 0:00:02\n",
      "   --------------------- ------------------ 6.2/11.5 MB 4.4 MB/s eta 0:00:02\n",
      "   ---------------------- ----------------- 6.5/11.5 MB 4.4 MB/s eta 0:00:02\n",
      "   ----------------------- ---------------- 6.7/11.5 MB 4.4 MB/s eta 0:00:02\n",
      "   ------------------------ --------------- 7.0/11.5 MB 4.5 MB/s eta 0:00:02\n",
      "   ------------------------- -------------- 7.3/11.5 MB 4.6 MB/s eta 0:00:01\n",
      "   ------------------------- -------------- 7.4/11.5 MB 4.5 MB/s eta 0:00:01\n",
      "   -------------------------- ------------- 7.8/11.5 MB 4.6 MB/s eta 0:00:01\n",
      "   ---------------------------- ----------- 8.1/11.5 MB 4.7 MB/s eta 0:00:01\n",
      "   ---------------------------- ----------- 8.3/11.5 MB 4.6 MB/s eta 0:00:01\n",
      "   ----------------------------- ---------- 8.5/11.5 MB 4.7 MB/s eta 0:00:01\n",
      "   ------------------------------ --------- 8.8/11.5 MB 4.7 MB/s eta 0:00:01\n",
      "   ------------------------------- -------- 9.1/11.5 MB 4.7 MB/s eta 0:00:01\n",
      "   -------------------------------- ------- 9.3/11.5 MB 4.8 MB/s eta 0:00:01\n",
      "   --------------------------------- ------ 9.5/11.5 MB 4.8 MB/s eta 0:00:01\n",
      "   ---------------------------------- ----- 9.9/11.5 MB 4.8 MB/s eta 0:00:01\n",
      "   ----------------------------------- ---- 10.1/11.5 MB 4.8 MB/s eta 0:00:01\n",
      "   ------------------------------------ --- 10.4/11.5 MB 4.9 MB/s eta 0:00:01\n",
      "   ------------------------------------- -- 10.7/11.5 MB 5.0 MB/s eta 0:00:01\n",
      "   ------------------------------------- -- 10.8/11.5 MB 5.1 MB/s eta 0:00:01\n",
      "   -------------------------------------- - 11.1/11.5 MB 5.5 MB/s eta 0:00:01\n",
      "   ---------------------------------------  11.5/11.5 MB 5.5 MB/s eta 0:00:01\n",
      "   ---------------------------------------  11.5/11.5 MB 5.5 MB/s eta 0:00:01\n",
      "   ---------------------------------------- 11.5/11.5 MB 5.4 MB/s eta 0:00:00\n",
      "Downloading pytz-2024.1-py2.py3-none-any.whl (505 kB)\n",
      "   ---------------------------------------- 0.0/505.5 kB ? eta -:--:--\n",
      "   -------------------- ------------------- 256.0/505.5 kB 7.9 MB/s eta 0:00:01\n",
      "   ---------------------------------------- 505.5/505.5 kB 6.3 MB/s eta 0:00:00\n",
      "Downloading tzdata-2024.1-py2.py3-none-any.whl (345 kB)\n",
      "   ---------------------------------------- 0.0/345.4 kB ? eta -:--:--\n",
      "   ---------------------------------------  337.9/345.4 kB 7.0 MB/s eta 0:00:01\n",
      "   ---------------------------------------- 345.4/345.4 kB 5.3 MB/s eta 0:00:00\n",
      "Installing collected packages: pytz, tzdata, pandas, seaborn\n",
      "Successfully installed pandas-2.2.2 pytz-2024.1 seaborn-0.13.2 tzdata-2024.1\n"
     ]
    }
   ],
   "source": [
    "!pip install seaborn"
   ]
  },
  {
   "cell_type": "code",
   "execution_count": 13,
   "id": "f266100a-790d-4b6b-9725-3655e7c188e1",
   "metadata": {},
   "outputs": [
    {
     "name": "stdout",
     "output_type": "stream",
     "text": [
      "Defaulting to user installation because normal site-packages is not writeable\n",
      "Collecting chardet\n",
      "  Downloading chardet-5.2.0-py3-none-any.whl.metadata (3.4 kB)\n",
      "Downloading chardet-5.2.0-py3-none-any.whl (199 kB)\n",
      "   ---------------------------------------- 0.0/199.4 kB ? eta -:--:--\n",
      "   -- ------------------------------------- 10.2/199.4 kB ? eta -:--:--\n",
      "   ------ -------------------------------- 30.7/199.4 kB 660.6 kB/s eta 0:00:01\n",
      "   -------- ------------------------------ 41.0/199.4 kB 245.8 kB/s eta 0:00:01\n",
      "   ------------------ -------------------- 92.2/199.4 kB 476.3 kB/s eta 0:00:01\n",
      "   ------------------ -------------------- 92.2/199.4 kB 476.3 kB/s eta 0:00:01\n",
      "   ----------------------------- -------- 153.6/199.4 kB 573.4 kB/s eta 0:00:01\n",
      "   -------------------------------------- 199.4/199.4 kB 636.9 kB/s eta 0:00:00\n",
      "Installing collected packages: chardet\n",
      "Successfully installed chardet-5.2.0\n"
     ]
    }
   ],
   "source": [
    "!pip install chardet"
   ]
  },
  {
   "cell_type": "code",
   "execution_count": 10,
   "id": "6ed4bf15-4013-4e96-88dc-c0723746a4f9",
   "metadata": {},
   "outputs": [],
   "source": [
    "import numpy as np\n",
    "np.random.seed(42)\n",
    "import tensorflow as tf\n",
    "tf.random.set_seed(42)\n",
    "\n",
    "from keras.models import Sequential, load_model\n",
    "from keras.layers import Dense, Activation, Dropout, LSTM, TimeDistributed, RepeatVector\n",
    "from keras.optimizers import RMSprop\n",
    "\n",
    "import matplotlib.pyplot as plt\n",
    "import pickle\n",
    "import sys\n",
    "import heapq\n",
    "import seaborn as sns\n",
    "from pylab import rcParams\n",
    "\n",
    "%matplotlib inline\n",
    "\n",
    "sns.set(style='whitegrid', palette='muted', font_scale=1.5)\n",
    "rcParams['figure.figsize'] = 12, 5\n"
   ]
  },
  {
   "cell_type": "markdown",
   "id": "f454c7c5-2bdd-48e0-a21e-df4b8c74c0ce",
   "metadata": {},
   "source": [
    "## Loading data"
   ]
  },
  {
   "cell_type": "code",
   "execution_count": 14,
   "id": "1b611fb8-b0db-4282-ba32-9bc1eaf386b6",
   "metadata": {},
   "outputs": [
    {
     "name": "stdout",
     "output_type": "stream",
     "text": [
      "Detected encoding: utf-8\n",
      "corpus length: 126829\n"
     ]
    }
   ],
   "source": [
    "import chardet\n",
    "\n",
    "path = 'abai_qara_sozder.txt'\n",
    "with open(path, 'rb') as file:\n",
    "    raw_data = file.read()\n",
    "\n",
    "result = chardet.detect(raw_data)\n",
    "encoding = result['encoding']\n",
    "print(f\"Detected encoding: {encoding}\")\n",
    "\n",
    "with open(path, encoding=encoding) as file:\n",
    "    text = file.read().lower()\n",
    "print('corpus length:', len(text))\n"
   ]
  },
  {
   "cell_type": "code",
   "execution_count": 15,
   "id": "ed1ea8e7-01d4-4b29-a165-7cbeb6f3c0d7",
   "metadata": {},
   "outputs": [
    {
     "name": "stdout",
     "output_type": "stream",
     "text": [
      "unique chars: 70\n"
     ]
    }
   ],
   "source": [
    "chars = sorted(list(set(text)))\n",
    "char_indices = dict((c, i) for i, c in enumerate(chars))\n",
    "indices_char = dict((i, c) for i, c in enumerate(chars))\n",
    "\n",
    "print(f'unique chars: {len(chars)}')"
   ]
  },
  {
   "cell_type": "code",
   "execution_count": 17,
   "id": "d1d6ca1c-acd5-4b3f-9c4c-ac47053abd0e",
   "metadata": {},
   "outputs": [
    {
     "name": "stdout",
     "output_type": "stream",
     "text": [
      "num training examples: 42263\n"
     ]
    }
   ],
   "source": [
    "SEQUENCE_LENGTH = 40\n",
    "step = 3\n",
    "sentences = []\n",
    "next_chars = []\n",
    "for i in range(0, len(text) - SEQUENCE_LENGTH, step):\n",
    "    sentences.append(text[i: i + SEQUENCE_LENGTH])\n",
    "    next_chars.append(text[i + SEQUENCE_LENGTH])\n",
    "print(f'num training examples: {len(sentences)}')"
   ]
  },
  {
   "cell_type": "code",
   "execution_count": 20,
   "id": "781ab4b1-39ad-44d2-8bc4-e47539cab6a6",
   "metadata": {},
   "outputs": [],
   "source": [
    "X = np.zeros((len(sentences), SEQUENCE_LENGTH, len(chars)), dtype=bool)\n",
    "y = np.zeros((len(sentences), len(chars)), dtype=bool)\n",
    "for i, sentence in enumerate(sentences):\n",
    "    for t, char in enumerate(sentence):\n",
    "        X[i, t, char_indices[char]] = 1\n",
    "    y[i, char_indices[next_chars[i]]] = 1"
   ]
  },
  {
   "cell_type": "markdown",
   "id": "6a39ff33-07a0-4802-813a-1f3fbd352ad0",
   "metadata": {},
   "source": [
    "Looking at training set"
   ]
  },
  {
   "cell_type": "code",
   "execution_count": 21,
   "id": "7123c598-6dd9-4f00-bb10-82b3cac557e3",
   "metadata": {},
   "outputs": [
    {
     "data": {
      "text/plain": [
       "'н білдік. ал, енді қалған өмірімізді қай'"
      ]
     },
     "execution_count": 21,
     "metadata": {},
     "output_type": "execute_result"
    }
   ],
   "source": [
    "sentences[100]"
   ]
  },
  {
   "cell_type": "code",
   "execution_count": 22,
   "id": "dc3fcd67-0235-476b-aaa3-ea4a8b9e1567",
   "metadata": {},
   "outputs": [
    {
     "data": {
      "text/plain": [
       "'т'"
      ]
     },
     "execution_count": 22,
     "metadata": {},
     "output_type": "execute_result"
    }
   ],
   "source": [
    "next_chars[100]"
   ]
  },
  {
   "cell_type": "code",
   "execution_count": 23,
   "id": "f88e81fa-be34-405e-aa68-2cfb2d237431",
   "metadata": {},
   "outputs": [
    {
     "data": {
      "text/plain": [
       "array([False, False, False, False, False, False, False, False, False,\n",
       "       False, False, False, False, False, False, False, False, False,\n",
       "       False, False, False, False, False, False, False, False, False,\n",
       "       False, False,  True, False, False, False, False, False, False,\n",
       "       False, False, False, False, False, False, False, False, False,\n",
       "       False, False, False, False, False, False, False, False, False,\n",
       "       False, False, False, False, False, False, False, False, False,\n",
       "       False, False, False, False, False, False, False])"
      ]
     },
     "execution_count": 23,
     "metadata": {},
     "output_type": "execute_result"
    }
   ],
   "source": [
    "X[0][0]"
   ]
  },
  {
   "cell_type": "code",
   "execution_count": 24,
   "id": "1d1d3bc3-6603-4e22-bf11-ee71fa82541e",
   "metadata": {},
   "outputs": [
    {
     "data": {
      "text/plain": [
       "array([False, False, False, False, False, False, False, False, False,\n",
       "       False, False, False, False, False, False, False, False, False,\n",
       "       False, False, False, False, False, False, False, False, False,\n",
       "       False, False, False, False, False, False, False, False, False,\n",
       "       False, False, False, False, False, False, False, False, False,\n",
       "       False, False, False, False, False, False, False, False, False,\n",
       "       False, False, False, False,  True, False, False, False, False,\n",
       "       False, False, False, False, False, False, False])"
      ]
     },
     "execution_count": 24,
     "metadata": {},
     "output_type": "execute_result"
    }
   ],
   "source": [
    "y[0]"
   ]
  },
  {
   "cell_type": "code",
   "execution_count": 25,
   "id": "eac5b2a0-a290-4df9-a5b1-be00e499c347",
   "metadata": {},
   "outputs": [
    {
     "data": {
      "text/plain": [
       "(42263, 40, 70)"
      ]
     },
     "execution_count": 25,
     "metadata": {},
     "output_type": "execute_result"
    }
   ],
   "source": [
    "X.shape #42263 training examples, each with a sequence length of 40 characters, \n",
    "        #and each character is represented by a one-hot encoded vector \n",
    "        #of length 70 (since there are 70 unique characters in the text)."
   ]
  },
  {
   "cell_type": "code",
   "execution_count": 26,
   "id": "fa0fe582-28bd-471e-beff-5fa6f9119781",
   "metadata": {},
   "outputs": [
    {
     "data": {
      "text/plain": [
       "(42263, 70)"
      ]
     },
     "execution_count": 26,
     "metadata": {},
     "output_type": "execute_result"
    }
   ],
   "source": [
    "y.shape"
   ]
  },
  {
   "cell_type": "markdown",
   "id": "9ed47b71-1c22-4121-b388-c941c18cf1c5",
   "metadata": {},
   "source": [
    "## Building the model"
   ]
  },
  {
   "cell_type": "code",
   "execution_count": 28,
   "id": "fc729908-9e06-4ac9-8825-2db3af6fdd71",
   "metadata": {},
   "outputs": [],
   "source": [
    "from keras.models import Sequential\n",
    "from keras.layers import Input, LSTM, Dense, Activation\n",
    "\n",
    "model = Sequential()\n",
    "model.add(Input(shape=(SEQUENCE_LENGTH, len(chars))))\n",
    "model.add(LSTM(128))\n",
    "model.add(Dense(len(chars)))\n",
    "model.add(Activation('softmax'))\n"
   ]
  },
  {
   "cell_type": "markdown",
   "id": "e0d46d34-4e79-4ae0-bd99-e21973da60b1",
   "metadata": {},
   "source": [
    "## Training\n",
    "Our model is trained for 20 epochs using RMSProp optimizer and uses 5% of the data for validation:"
   ]
  },
  {
   "cell_type": "code",
   "execution_count": 31,
   "id": "3686bc8c-76f4-4a65-b4dc-257b6e6360c1",
   "metadata": {},
   "outputs": [
    {
     "name": "stdout",
     "output_type": "stream",
     "text": [
      "Epoch 1/20\n",
      "\u001b[1m314/314\u001b[0m \u001b[32m━━━━━━━━━━━━━━━━━━━━\u001b[0m\u001b[37m\u001b[0m \u001b[1m19s\u001b[0m 51ms/step - accuracy: 0.2223 - loss: 2.8346 - val_accuracy: 0.3529 - val_loss: 2.2474\n",
      "Epoch 2/20\n",
      "\u001b[1m314/314\u001b[0m \u001b[32m━━━━━━━━━━━━━━━━━━━━\u001b[0m\u001b[37m\u001b[0m \u001b[1m19s\u001b[0m 47ms/step - accuracy: 0.3713 - loss: 2.0601 - val_accuracy: 0.3529 - val_loss: 2.1640\n",
      "Epoch 3/20\n",
      "\u001b[1m314/314\u001b[0m \u001b[32m━━━━━━━━━━━━━━━━━━━━\u001b[0m\u001b[37m\u001b[0m \u001b[1m16s\u001b[0m 49ms/step - accuracy: 0.4274 - loss: 1.8798 - val_accuracy: 0.3737 - val_loss: 2.1368\n",
      "Epoch 4/20\n",
      "\u001b[1m314/314\u001b[0m \u001b[32m━━━━━━━━━━━━━━━━━━━━\u001b[0m\u001b[37m\u001b[0m \u001b[1m15s\u001b[0m 48ms/step - accuracy: 0.4678 - loss: 1.7483 - val_accuracy: 0.3817 - val_loss: 2.1274\n",
      "Epoch 5/20\n",
      "\u001b[1m314/314\u001b[0m \u001b[32m━━━━━━━━━━━━━━━━━━━━\u001b[0m\u001b[37m\u001b[0m \u001b[1m15s\u001b[0m 47ms/step - accuracy: 0.4937 - loss: 1.6417 - val_accuracy: 0.3874 - val_loss: 2.1427\n",
      "Epoch 6/20\n",
      "\u001b[1m314/314\u001b[0m \u001b[32m━━━━━━━━━━━━━━━━━━━━\u001b[0m\u001b[37m\u001b[0m \u001b[1m21s\u001b[0m 47ms/step - accuracy: 0.5188 - loss: 1.5470 - val_accuracy: 0.3860 - val_loss: 2.2013\n",
      "Epoch 7/20\n",
      "\u001b[1m314/314\u001b[0m \u001b[32m━━━━━━━━━━━━━━━━━━━━\u001b[0m\u001b[37m\u001b[0m \u001b[1m16s\u001b[0m 52ms/step - accuracy: 0.5429 - loss: 1.4661 - val_accuracy: 0.3742 - val_loss: 2.2638\n",
      "Epoch 8/20\n",
      "\u001b[1m314/314\u001b[0m \u001b[32m━━━━━━━━━━━━━━━━━━━━\u001b[0m\u001b[37m\u001b[0m \u001b[1m20s\u001b[0m 51ms/step - accuracy: 0.5602 - loss: 1.4056 - val_accuracy: 0.3761 - val_loss: 2.2894\n",
      "Epoch 9/20\n",
      "\u001b[1m314/314\u001b[0m \u001b[32m━━━━━━━━━━━━━━━━━━━━\u001b[0m\u001b[37m\u001b[0m \u001b[1m16s\u001b[0m 52ms/step - accuracy: 0.5734 - loss: 1.3632 - val_accuracy: 0.3817 - val_loss: 2.3038\n",
      "Epoch 10/20\n",
      "\u001b[1m314/314\u001b[0m \u001b[32m━━━━━━━━━━━━━━━━━━━━\u001b[0m\u001b[37m\u001b[0m \u001b[1m15s\u001b[0m 48ms/step - accuracy: 0.5848 - loss: 1.3270 - val_accuracy: 0.3879 - val_loss: 2.3123\n",
      "Epoch 11/20\n",
      "\u001b[1m314/314\u001b[0m \u001b[32m━━━━━━━━━━━━━━━━━━━━\u001b[0m\u001b[37m\u001b[0m \u001b[1m15s\u001b[0m 48ms/step - accuracy: 0.5900 - loss: 1.3017 - val_accuracy: 0.3884 - val_loss: 2.3177\n",
      "Epoch 12/20\n",
      "\u001b[1m314/314\u001b[0m \u001b[32m━━━━━━━━━━━━━━━━━━━━\u001b[0m\u001b[37m\u001b[0m \u001b[1m16s\u001b[0m 52ms/step - accuracy: 0.6005 - loss: 1.2761 - val_accuracy: 0.3898 - val_loss: 2.3758\n",
      "Epoch 13/20\n",
      "\u001b[1m314/314\u001b[0m \u001b[32m━━━━━━━━━━━━━━━━━━━━\u001b[0m\u001b[37m\u001b[0m \u001b[1m15s\u001b[0m 47ms/step - accuracy: 0.6021 - loss: 1.2505 - val_accuracy: 0.3888 - val_loss: 2.3603\n",
      "Epoch 14/20\n",
      "\u001b[1m314/314\u001b[0m \u001b[32m━━━━━━━━━━━━━━━━━━━━\u001b[0m\u001b[37m\u001b[0m \u001b[1m15s\u001b[0m 46ms/step - accuracy: 0.6130 - loss: 1.2319 - val_accuracy: 0.3869 - val_loss: 2.4010\n",
      "Epoch 15/20\n",
      "\u001b[1m314/314\u001b[0m \u001b[32m━━━━━━━━━━━━━━━━━━━━\u001b[0m\u001b[37m\u001b[0m \u001b[1m16s\u001b[0m 52ms/step - accuracy: 0.6186 - loss: 1.2119 - val_accuracy: 0.3827 - val_loss: 2.4173\n",
      "Epoch 16/20\n",
      "\u001b[1m314/314\u001b[0m \u001b[32m━━━━━━━━━━━━━━━━━━━━\u001b[0m\u001b[37m\u001b[0m \u001b[1m15s\u001b[0m 46ms/step - accuracy: 0.6215 - loss: 1.1980 - val_accuracy: 0.3893 - val_loss: 2.4142\n",
      "Epoch 17/20\n",
      "\u001b[1m314/314\u001b[0m \u001b[32m━━━━━━━━━━━━━━━━━━━━\u001b[0m\u001b[37m\u001b[0m \u001b[1m14s\u001b[0m 45ms/step - accuracy: 0.6261 - loss: 1.1821 - val_accuracy: 0.3836 - val_loss: 2.4404\n",
      "Epoch 18/20\n",
      "\u001b[1m314/314\u001b[0m \u001b[32m━━━━━━━━━━━━━━━━━━━━\u001b[0m\u001b[37m\u001b[0m \u001b[1m17s\u001b[0m 53ms/step - accuracy: 0.6303 - loss: 1.1563 - val_accuracy: 0.3865 - val_loss: 2.4339\n",
      "Epoch 19/20\n",
      "\u001b[1m314/314\u001b[0m \u001b[32m━━━━━━━━━━━━━━━━━━━━\u001b[0m\u001b[37m\u001b[0m \u001b[1m14s\u001b[0m 45ms/step - accuracy: 0.6377 - loss: 1.1400 - val_accuracy: 0.3813 - val_loss: 2.4811\n",
      "Epoch 20/20\n",
      "\u001b[1m314/314\u001b[0m \u001b[32m━━━━━━━━━━━━━━━━━━━━\u001b[0m\u001b[37m\u001b[0m \u001b[1m22s\u001b[0m 50ms/step - accuracy: 0.6419 - loss: 1.1299 - val_accuracy: 0.3784 - val_loss: 2.4902\n"
     ]
    }
   ],
   "source": [
    "from keras.optimizers import RMSprop\n",
    "\n",
    "# Define the optimizer with the correct argument name\n",
    "optimizer = RMSprop(learning_rate=0.01)\n",
    "\n",
    "# Compile the model with the optimizer\n",
    "model.compile(loss='categorical_crossentropy', optimizer=optimizer, metrics=['accuracy'])\n",
    "\n",
    "# Train the model\n",
    "history = model.fit(X, y, validation_split=0.05, batch_size=128, epochs=20, shuffle=True).history\n"
   ]
  },
  {
   "cell_type": "code",
   "execution_count": 35,
   "id": "598e6170-d4c3-41ca-b413-40e0a1a00540",
   "metadata": {},
   "outputs": [
    {
     "name": "stderr",
     "output_type": "stream",
     "text": [
      "WARNING:absl:You are saving your model as an HDF5 file via `model.save()` or `keras.saving.save_model(model)`. This file format is considered legacy. We recommend using instead the native Keras format, e.g. `model.save('my_model.keras')` or `keras.saving.save_model(model, 'my_model.keras')`. \n"
     ]
    }
   ],
   "source": [
    "model.save('keras_model.h5')\n",
    "pickle.dump(history, open(\"history.p\", \"wb\"))"
   ]
  },
  {
   "cell_type": "markdown",
   "id": "8e5b5826-a275-4354-8213-686181ffcb17",
   "metadata": {},
   "source": [
    "Loading back "
   ]
  },
  {
   "cell_type": "code",
   "execution_count": 36,
   "id": "fcd8ff10-345d-4374-bb78-b199a17e95d1",
   "metadata": {},
   "outputs": [
    {
     "name": "stderr",
     "output_type": "stream",
     "text": [
      "WARNING:absl:Compiled the loaded model, but the compiled metrics have yet to be built. `model.compile_metrics` will be empty until you train or evaluate the model.\n"
     ]
    }
   ],
   "source": [
    "model = load_model('keras_model.h5')\n",
    "history = pickle.load(open(\"history.p\", \"rb\"))"
   ]
  },
  {
   "cell_type": "markdown",
   "id": "ba03836f-e014-4273-9a36-5a831e7634ca",
   "metadata": {},
   "source": [
    "## Evaluation"
   ]
  },
  {
   "cell_type": "code",
   "execution_count": 38,
   "id": "88885c3d-b9c3-4313-a7ba-71950720c447",
   "metadata": {},
   "outputs": [
    {
     "data": {
      "image/png": "[encoded data removed]",
      "text/plain": [
       "<Figure size 1200x500 with 1 Axes>"
      ]
     },
     "metadata": {},
     "output_type": "display_data"
    }
   ],
   "source": [
    "plt.plot(history['accuracy'])\n",
    "plt.plot(history['val_accuracy'])\n",
    "plt.title('model accuracy')\n",
    "plt.ylabel('accuracy')\n",
    "plt.xlabel('epoch')\n",
    "plt.legend(['train', 'test'], loc='upper left');"
   ]
  },
  {
   "cell_type": "code",
   "execution_count": 39,
   "id": "71509df7-4566-4ed4-909f-829aa6f745fa",
   "metadata": {},
   "outputs": [
    {
     "data": {
      "image/png": "[encoded data removed]",
      "text/plain": [
       "<Figure size 1200x500 with 1 Axes>"
      ]
     },
     "metadata": {},
     "output_type": "display_data"
    }
   ],
   "source": [
    "plt.plot(history['loss'])\n",
    "plt.plot(history['val_loss'])\n",
    "plt.title('model loss')\n",
    "plt.ylabel('loss')\n",
    "plt.xlabel('epoch')\n",
    "plt.legend(['train', 'test'], loc='upper left');"
   ]
  },
  {
   "cell_type": "markdown",
   "id": "b628d67b-dd25-49b8-98ec-8063e7306733",
   "metadata": {},
   "source": [
    "## Let’s put our model to the test"
   ]
  },
  {
   "cell_type": "code",
   "execution_count": 40,
   "id": "048b3cfa-b211-48b5-875a-e9821759498a",
   "metadata": {},
   "outputs": [],
   "source": [
    "def prepare_input(text):\n",
    "    x = np.zeros((1, SEQUENCE_LENGTH, len(chars)))\n",
    "    for t, char in enumerate(text):\n",
    "        x[0, t, char_indices[char]] = 1.\n",
    "        \n",
    "    return x"
   ]
  },
  {
   "cell_type": "code",
   "execution_count": 41,
   "id": "b1408e67-2545-43e5-9bde-2fa8a5dd4d3b",
   "metadata": {},
   "outputs": [
    {
     "data": {
      "text/plain": [
       "array([[[0., 0., 0., ..., 0., 0., 0.],\n",
       "        [0., 0., 0., ..., 0., 0., 0.],\n",
       "        [0., 0., 0., ..., 0., 0., 0.],\n",
       "        ...,\n",
       "        [0., 0., 0., ..., 0., 0., 0.],\n",
       "        [0., 0., 0., ..., 0., 0., 0.],\n",
       "        [0., 0., 0., ..., 0., 0., 0.]]])"
      ]
     },
     "execution_count": 41,
     "metadata": {},
     "output_type": "execute_result"
    }
   ],
   "source": [
    "prepare_input(\"Біздің бірінші тексеретін мысалымыз бола\".lower())"
   ]
  },
  {
   "cell_type": "code",
   "execution_count": 42,
   "id": "941233d3-818d-40bd-97b8-1a1ad043e358",
   "metadata": {},
   "outputs": [],
   "source": [
    "def sample(preds, top_n=3):\n",
    "    preds = np.asarray(preds).astype('float64')\n",
    "    preds = np.log(preds)\n",
    "    exp_preds = np.exp(preds)\n",
    "    preds = exp_preds / np.sum(exp_preds)\n",
    "    \n",
    "    return heapq.nlargest(top_n, range(len(preds)), preds.take)"
   ]
  },
  {
   "cell_type": "markdown",
   "id": "c056ae2d-4dd6-446b-b8cc-ea52e67ff71b",
   "metadata": {},
   "source": [
    "## This function allows us to ask our model what are the next n most probable characters. Isn’t it cool?"
   ]
  },
  {
   "cell_type": "code",
   "execution_count": 43,
   "id": "579ca3f2-0903-4bc1-a1f8-f0c1f36639e2",
   "metadata": {},
   "outputs": [],
   "source": [
    "def predict_completion(text):\n",
    "    original_text = text\n",
    "    generated = text\n",
    "    completion = ''\n",
    "    while True:\n",
    "        x = prepare_input(text)\n",
    "        preds = model.predict(x, verbose=0)[0]\n",
    "        next_index = sample(preds, top_n=1)[0]\n",
    "        next_char = indices_char[next_index]\n",
    "        text = text[1:] + next_char\n",
    "        completion += next_char\n",
    "        \n",
    "        if len(original_text + completion) + 2 > len(original_text) and next_char == ' ':\n",
    "            return completion"
   ]
  },
  {
   "cell_type": "code",
   "execution_count": 44,
   "id": "6b98fb69-c262-4d6d-8f9b-1f4fc6a04dba",
   "metadata": {},
   "outputs": [],
   "source": [
    "def predict_completions(text, n=3):\n",
    "    x = prepare_input(text)\n",
    "    preds = model.predict(x, verbose=0)[0]\n",
    "    next_indices = sample(preds, n)\n",
    "    return [indices_char[idx] + predict_completion(text[1:] + indices_char[idx]) for idx in next_indices]"
   ]
  },
  {
   "cell_type": "code",
   "execution_count": 51,
   "id": "acfa1d32-3576-4883-8661-6b6ca04be1e2",
   "metadata": {},
   "outputs": [],
   "source": [
    "quotes = [\n",
    "    \"Бірақ сол жолға жүруді өзіне шарт қылып кім қадам басты, ол таза мұсылман, толық адам делінеді.\",\n",
    "    \"Әуелі - бек зор өкімет, жарлық қолында бар кісі керек.\",\n",
    "    \"Адамға хәлінше ихсанды болмақ - қарыз іс\",\n",
    "    \"Қазақтың жаманшылыққа үйір бола беретұғынының бір себебі - жұмысының жоқтығы.\",\n",
    "    \"Бәлки, дүниенің ғылымын білмей қалмақтық - бір үлкен зарарлы надандық, ол құранда сөгілген\"\n",
    "]"
   ]
  },
  {
   "cell_type": "code",
   "execution_count": 52,
   "id": "83475a87-28cd-4bea-a419-37c0d4c96305",
   "metadata": {},
   "outputs": [
    {
     "name": "stdout",
     "output_type": "stream",
     "text": [
      "бірақ сол жолға жүруді өзіне шарт қылып \n",
      "['жаратқан, ', 'тұрсын, ', 'қылса, ', 'бір ', 'алсаң, ']\n",
      "\n",
      "әуелі - бек зор өкімет, жарлық қолында б\n",
      "['ір ', 'ар ', 'олады. ', 'еріп ', 'ұл ']\n",
      "\n",
      "адамға хәлінше ихсанды болмақ - қарыз іс\n",
      "[' емес. ', '. ', 'тіп, ', 'іне ', 'ке ']\n",
      "\n",
      "қазақтың жаманшылыққа үйір бола беретұғы\n",
      "['ны ', ' деген ', '» ', 'сындай ', 'лыны ']\n",
      "\n",
      "бәлки, дүниенің ғылымын білмей қалмақтық\n",
      "[' қылып ', 'қа ', ', ', '. ', 'ты ']\n",
      "\n"
     ]
    }
   ],
   "source": [
    "for q in quotes:\n",
    "    seq = q[:40].lower()\n",
    "    print(seq)\n",
    "    print(predict_completions(seq, 5))\n",
    "    print()"
   ]
  },
  {
   "cell_type": "code",
   "execution_count": null,
   "id": "401e1d5f-318d-4abb-8923-a41665dc12b0",
   "metadata": {},
   "outputs": [],
   "source": []
  },
  {
   "cell_type": "code",
   "execution_count": null,
   "id": "71ea0d73-4fd2-474f-a1a0-1f90880475b9",
   "metadata": {},
   "outputs": [],
   "source": []
  },
  {
   "cell_type": "code",
   "execution_count": null,
   "id": "97c89bb9-2056-4d1e-97ad-38b75dc07481",
   "metadata": {},
   "outputs": [],
   "source": []
  },
  {
   "cell_type": "code",
   "execution_count": null,
   "id": "457e63c9-940b-48e1-a851-7f2c93cc8b27",
   "metadata": {},
   "outputs": [],
   "source": []
  },
  {
   "cell_type": "code",
   "execution_count": null,
   "id": "1a0ac416-7a14-4750-81f0-f2239e970734",
   "metadata": {},
   "outputs": [],
   "source": []
  }
 ],
 "metadata": {
  "kernelspec": {
   "display_name": "Python 3 (ipykernel)",
   "language": "python",
   "name": "python3"
  },
  "language_info": {
   "codemirror_mode": {
    "name": "ipython",
    "version": 3
   },
   "file_extension": ".py",
   "mimetype": "text/x-python",
   "name": "python",
   "nbconvert_exporter": "python",
   "pygments_lexer": "ipython3",
   "version": "3.12.3"
  }
 },
 "nbformat": 4,
 "nbformat_minor": 5
}
