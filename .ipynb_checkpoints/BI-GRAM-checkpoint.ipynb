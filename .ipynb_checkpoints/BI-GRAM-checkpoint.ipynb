{
 "cells": [
  {
   "cell_type": "code",
   "execution_count": 2,
   "id": "ee312c83-4233-4bfe-8f14-2af3f70c524d",
   "metadata": {},
   "outputs": [],
   "source": [
    "import numpy as np\n",
    "import pandas as pd\n",
    "import matplotlib.pyplot as plt\n",
    "import re\n",
    "import nltk\n",
    "import chardet"
   ]
  },
  {
   "cell_type": "code",
   "execution_count": 4,
   "id": "2cd5b105-7fee-4e47-9449-3f1af07d7ca1",
   "metadata": {},
   "outputs": [
    {
     "name": "stdout",
     "output_type": "stream",
     "text": [
      "Detected encoding: utf-8\n"
     ]
    }
   ],
   "source": [
    "import pandas as pd\n",
    "import io\n",
    "\n",
    "# Detect the encoding of the file\n",
    "with open('kk.txt', 'rb') as f:\n",
    "    result = chardet.detect(f.read())\n",
    "    encoding = result['encoding']\n",
    "    print(f\"Detected encoding: {encoding}\")\n",
    "    \n"
   ]
  },
  {
   "cell_type": "code",
   "execution_count": 8,
   "id": "9fb264d9-4a15-4af9-b944-8265cfd7a7ef",
   "metadata": {},
   "outputs": [
    {
     "name": "stdout",
     "output_type": "stream",
     "text": [
      "Kitaptardy tabyńyz.\n",
      "Qazir siz oqyńyz.\n",
      "Shulyǵyńyzdy sheshińiz.\n",
      "Biz etti jedik.\n",
      "Qyzymdy kórdińiz be?\n",
      "Qyzymdy kórdiń be?\n",
      "Láıli barlyq aqshany qalady.\n",
      "Barlyq aqshany qalamadym.\n",
      "Antısıonızm - antısemıtızm emes.\n",
      "Mennad jumysta edi.\n",
      "Sýshıdi jaqsy kórmeımin.\n",
      "Sýshı jediń be?\n",
      "Sýshıdi jaqsy kóresiń be?\n",
      "Mundaı ázilderdi jaqsy kórmeımin.\n",
      "Men irimshikti jaqsy kóremin.\n",
      "Patshaıymdy kórdim.\n",
      "Ol esikti japty.\n",
      "Myna áıeldiń aty kim?\n",
      "Qyzyńdy maǵan ber.\n",
      "Anamdy óltirdiń.\n",
      "Avtovokzal qaıda?\n",
      "Kitap oqymadyń ba?\n",
      "Men seni súıemin.\n",
      "Men seni jaqsy kórem.\n",
      "Dúısenbini jek kóremin.\n",
      "Men seni jek kóremin.\n",
      "Sýshıdi jek kóremin.\n",
      "Ony jek kórmeımin, biraq jaqsy da kórmeımin.\n",
      "Ol dosym emes.\n",
      "Oqýǵa ýaqytym joq.\n",
      "Sen et jeısiń.\n",
      "Siz et jeısiz.\n",
      "Sen et jep otyrsyń.\n",
      "Siz et jep otyrsyz.\n",
      "Nensı apama uqsaıdy.\n",
      "Eshkimge meniń munda bolǵanymdy aıtpa.\n",
      "Ár oqýshynyń óz kompıýteri bar.\n",
      "Men ıtterdi jaqsy kóremin.\n",
      "Oǵan ne aıttyń?\n",
      "Tomdy kúttirdim.\n",
      "Tom da erte turdy edi.\n",
      "Qaryndashymdy túsirip aldym.\n",
      "Polısıa qyzmetkerlerine kezekte alkogoldik ishimdik ishýine tyıym salynady.\n",
      "Saǵan aıtqym kelgen bir nárse bar.\n",
      "Tomǵa erteń hat jiberemin.\n",
      "Tomǵa erteń hat salamyn.\n",
      "Shatyrdy qurǵansyń.\n",
      "Shatyrdy qaıda qurǵyń keledi?\n",
      "Shatyrdy qaıda qurǵyńyz keledi?\n",
      "Ol bıyl ýnıversıtet stýdenti bolady.\n",
      "Tumaýratyp qalǵandyqtan búgin kelmeıdi.\n",
      "Bostonǵa úsh aı buryn keldim.\n",
      "Men odan hat aldym.\n",
      "Odan hat aldym.\n",
      "Tom jeıdeni kıip kórdi.\n",
      "Jetkilikti ýaqyty bolmaǵandyqtan túski as ishpeı ketip qaldy.\n",
      "Onda bir qurylys kompanıasynda jumys istedi.\n",
      "Búgin mektepke barǵan kezde jańa kostúm kıdi.\n",
      "Marıa alǵa qaraı eńkeıdi.\n",
      "Álı tańsáride úıden ketti.\n",
      "Әли таңсәріде үйден кетті.\n",
      "Мария алға қарай еңкейді.\n",
      "Бүгін мектепке барған кезде жаңа костюм киді.\n",
      "Онда бір құрылыс компаниясында жұмыс істеді.\n",
      "Жеткілікті уақыты болмағандықтан түскі ас ішпей кетіп қалды.\n",
      "Том жейдені киіп көрді.\n",
      "Одан хат алдым.\n",
      "Мен одан хат алдым.\n",
      "Бостонға үш ай бұрын келдім.\n",
      "Тұмауратып қалғандықтан бүгін келмейді.\n",
      "Ол биыл университет студенті болады.\n",
      "Шатырды қайда құрғыңыз келеді?\n",
      "Шатырды қайда құрғың келеді?\n",
      "Ша\n"
     ]
    }
   ],
   "source": [
    "# Read the file with the detected encoding\n",
    "with io.open('kk.txt', 'r', encoding=encoding) as t:\n",
    "    txt = t.read()\n",
    "\n",
    "print(txt[:2000])  # Print the first 500 characters to check if it is read correctly"
   ]
  },
  {
   "cell_type": "code",
   "execution_count": 17,
   "id": "e03be668-b553-422e-95c1-79c986a544d3",
   "metadata": {},
   "outputs": [],
   "source": [
    "t.close()\n",
    "from collections import OrderedDict\n",
    "import re\n",
    "review = re.sub('[^a-zA-Zа-яА-ЯёЁӘәҒғҚқҢңӨөҰұҮүҺһІі]',' ',txt)\n",
    "review= review.split()\n",
    "review= [word.lower() for word in review]\n",
    "#review= review.lower()\n",
    "#review = [[words for words in review.lower()]\n",
    "uni= OrderedDict()\n",
    "uni= [review[i] for i in range(len(review)-1)]\n",
    "uni=tuple(uni)\n",
    "#import collections\n",
    "#uni=collections.Counter([(x) for (x) in uni])\n",
    "#uni = uni.most_common(len(uni))"
   ]
  },
  {
   "cell_type": "code",
   "execution_count": 18,
   "id": "8163f64e-40f9-4a17-b7cc-7f12ec358c65",
   "metadata": {},
   "outputs": [],
   "source": [
    "word_pair = [(review[i],review[i+1]) for i in range(len(review)-1)]\n",
    "l= len(word_pair)\n",
    "gram2= set(word_pair)\n",
    "coll_list = []\n",
    "import collections\n",
    "val_1=collections.Counter([(x,y) for (x,y) in word_pair])\n",
    "val_1= val_1.most_common(l)\n",
    "li=tuple(val_1)"
   ]
  },
  {
   "cell_type": "code",
   "execution_count": 19,
   "id": "97beea2e-9038-4409-9afc-515be48ce815",
   "metadata": {},
   "outputs": [],
   "source": [
    "li1= [item[1] for item in li]\n",
    "el= [item[0] for item in li]\n",
    "el=tuple(el)\n",
    "li2= [item[0] for item in el]\n",
    "li4= [item[1] for item in el]\n",
    "conditionalprob = OrderedDict()\n",
    "li1= [item[1] for item in li]"
   ]
  },
  {
   "cell_type": "code",
   "execution_count": 20,
   "id": "9f247286-abc9-47d2-89d7-c4da7a0e9db0",
   "metadata": {},
   "outputs": [],
   "source": [
    "for i in range(len(li1)):\n",
    "    li3=li1[i]\n",
    "    firstword= li2[i]\n",
    "    secondword= li4[i]\n",
    "    #data= collections.Counter([(firstword) for (firstword) in uni])\n",
    "    data= uni.count(firstword)\n",
    "    cprob= li3/int(data)\n",
    "    conditionalprob[firstword+\" \"+secondword]= cprob"
   ]
  },
  {
   "cell_type": "code",
   "execution_count": null,
   "id": "df19343c-0ddd-4d45-961b-7e1b3b979f3f",
   "metadata": {},
   "outputs": [
    {
     "name": "stdin",
     "output_type": "stream",
     "text": [
      "Enter a word to predict (exit to stop):  неге\n"
     ]
    },
    {
     "name": "stdout",
     "output_type": "stream",
     "text": [
      "Next word prediction for 'неге': мұндамыз\n"
     ]
    },
    {
     "name": "stdin",
     "output_type": "stream",
     "text": [
      "Enter a word to predict (exit to stop):  не\n"
     ]
    },
    {
     "name": "stdout",
     "output_type": "stream",
     "text": [
      "Next word prediction for 'не': үшін\n"
     ]
    },
    {
     "name": "stdin",
     "output_type": "stream",
     "text": [
      "Enter a word to predict (exit to stop):  қашан\n"
     ]
    },
    {
     "name": "stdout",
     "output_type": "stream",
     "text": [
      "Next word prediction for 'қашан': барасың\n"
     ]
    },
    {
     "name": "stdin",
     "output_type": "stream",
     "text": [
      "Enter a word to predict (exit to stop):  қайда\n"
     ]
    },
    {
     "name": "stdout",
     "output_type": "stream",
     "text": [
      "Next word prediction for 'қайда': барасың\n"
     ]
    },
    {
     "name": "stdin",
     "output_type": "stream",
     "text": [
      "Enter a word to predict (exit to stop):  кім\n"
     ]
    },
    {
     "name": "stdout",
     "output_type": "stream",
     "text": [
      "Next word prediction for 'кім': ол\n"
     ]
    },
    {
     "name": "stdin",
     "output_type": "stream",
     "text": [
      "Enter a word to predict (exit to stop):  салем\n"
     ]
    },
    {
     "name": "stdout",
     "output_type": "stream",
     "text": [
      "No predictions available for the word 'салем'.\n"
     ]
    },
    {
     "name": "stdin",
     "output_type": "stream",
     "text": [
      "Enter a word to predict (exit to stop):  бар\n"
     ]
    },
    {
     "name": "stdout",
     "output_type": "stream",
     "text": [
      "Next word prediction for 'бар': ма\n"
     ]
    },
    {
     "name": "stdin",
     "output_type": "stream",
     "text": [
      "Enter a word to predict (exit to stop):  сен\n"
     ]
    },
    {
     "name": "stdout",
     "output_type": "stream",
     "text": [
      "Next word prediction for 'сен': ет\n"
     ]
    },
    {
     "name": "stdin",
     "output_type": "stream",
     "text": [
      "Enter a word to predict (exit to stop):  саған\n"
     ]
    },
    {
     "name": "stdout",
     "output_type": "stream",
     "text": [
      "Next word prediction for 'саған': айтқым\n"
     ]
    },
    {
     "name": "stdin",
     "output_type": "stream",
     "text": [
      "Enter a word to predict (exit to stop):  ол\n"
     ]
    },
    {
     "name": "stdout",
     "output_type": "stream",
     "text": [
      "Next word prediction for 'ол': маған\n"
     ]
    },
    {
     "name": "stdin",
     "output_type": "stream",
     "text": [
      "Enter a word to predict (exit to stop):  сәлем\n"
     ]
    },
    {
     "name": "stdout",
     "output_type": "stream",
     "text": [
      "Next word prediction for 'сәлем': әлем\n"
     ]
    },
    {
     "name": "stdin",
     "output_type": "stream",
     "text": [
      "Enter a word to predict (exit to stop):  салам\n"
     ]
    },
    {
     "name": "stdout",
     "output_type": "stream",
     "text": [
      "No predictions available for the word 'салам'.\n"
     ]
    },
    {
     "name": "stdin",
     "output_type": "stream",
     "text": [
      "Enter a word to predict (exit to stop):  ертең\n"
     ]
    },
    {
     "name": "stdout",
     "output_type": "stream",
     "text": [
      "Next word prediction for 'ертең': хат\n"
     ]
    },
    {
     "name": "stdin",
     "output_type": "stream",
     "text": [
      "Enter a word to predict (exit to stop):  bugin\n"
     ]
    },
    {
     "name": "stdout",
     "output_type": "stream",
     "text": [
      "No predictions available for the word 'bugin'.\n"
     ]
    },
    {
     "name": "stdin",
     "output_type": "stream",
     "text": [
      "Enter a word to predict (exit to stop):  aty\n"
     ]
    },
    {
     "name": "stdout",
     "output_type": "stream",
     "text": [
      "Next word prediction for 'aty': kim\n"
     ]
    },
    {
     "name": "stdin",
     "output_type": "stream",
     "text": [
      "Enter a word to predict (exit to stop):  seni\n"
     ]
    },
    {
     "name": "stdout",
     "output_type": "stream",
     "text": [
      "Next word prediction for 'seni': s\n"
     ]
    },
    {
     "name": "stdin",
     "output_type": "stream",
     "text": [
      "Enter a word to predict (exit to stop):  odan\n"
     ]
    },
    {
     "name": "stdout",
     "output_type": "stream",
     "text": [
      "Next word prediction for 'odan': hat\n"
     ]
    },
    {
     "name": "stdin",
     "output_type": "stream",
     "text": [
      "Enter a word to predict (exit to stop):  hat\n"
     ]
    },
    {
     "name": "stdout",
     "output_type": "stream",
     "text": [
      "Next word prediction for 'hat': aldym\n"
     ]
    },
    {
     "name": "stdin",
     "output_type": "stream",
     "text": [
      "Enter a word to predict (exit to stop):  et\n"
     ]
    },
    {
     "name": "stdout",
     "output_type": "stream",
     "text": [
      "Next word prediction for 'et': je\n"
     ]
    },
    {
     "name": "stdin",
     "output_type": "stream",
     "text": [
      "Enter a word to predict (exit to stop):  je\n"
     ]
    },
    {
     "name": "stdout",
     "output_type": "stream",
     "text": [
      "Next word prediction for 'je': si\n"
     ]
    },
    {
     "name": "stdin",
     "output_type": "stream",
     "text": [
      "Enter a word to predict (exit to stop):  joq\n"
     ]
    },
    {
     "name": "stdout",
     "output_type": "stream",
     "text": [
      "Next word prediction for 'joq': sen\n"
     ]
    },
    {
     "name": "stdin",
     "output_type": "stream",
     "text": [
      "Enter a word to predict (exit to stop):  sen\n"
     ]
    },
    {
     "name": "stdout",
     "output_type": "stream",
     "text": [
      "Next word prediction for 'sen': et\n"
     ]
    },
    {
     "name": "stdin",
     "output_type": "stream",
     "text": [
      "Enter a word to predict (exit to stop):  et\n"
     ]
    },
    {
     "name": "stdout",
     "output_type": "stream",
     "text": [
      "Next word prediction for 'et': je\n"
     ]
    },
    {
     "name": "stdin",
     "output_type": "stream",
     "text": [
      "Enter a word to predict (exit to stop):  si\n"
     ]
    },
    {
     "name": "stdout",
     "output_type": "stream",
     "text": [
      "Next word prediction for 'si': siz\n"
     ]
    },
    {
     "name": "stdin",
     "output_type": "stream",
     "text": [
      "Enter a word to predict (exit to stop):  keledi\n"
     ]
    },
    {
     "name": "stdout",
     "output_type": "stream",
     "text": [
      "Next word prediction for 'keledi': shatyrdy\n"
     ]
    },
    {
     "name": "stdin",
     "output_type": "stream",
     "text": [
      "Enter a word to predict (exit to stop):  shatyrdy\n"
     ]
    },
    {
     "name": "stdout",
     "output_type": "stream",
     "text": [
      "Next word prediction for 'shatyrdy': qa\n"
     ]
    },
    {
     "name": "stdin",
     "output_type": "stream",
     "text": [
      "Enter a word to predict (exit to stop):  nelikten\n"
     ]
    },
    {
     "name": "stdout",
     "output_type": "stream",
     "text": [
      "No predictions available for the word 'nelikten'.\n"
     ]
    },
    {
     "name": "stdin",
     "output_type": "stream",
     "text": [
      "Enter a word to predict (exit to stop):  birge\n"
     ]
    },
    {
     "name": "stdout",
     "output_type": "stream",
     "text": [
      "No predictions available for the word 'birge'.\n"
     ]
    }
   ],
   "source": [
    "# Function to predict the next word\n",
    "def predict_next_word(word):\n",
    "    predictions = {k.split()[1]: v for k, v in conditionalprob.items() if k.split()[0] == word.lower()}\n",
    "    if predictions:\n",
    "        next_word = max(predictions, key=predictions.get)\n",
    "        return next_word\n",
    "    else:\n",
    "        return None\n",
    "\n",
    "# Prompt the user to enter a word to predict the next word\n",
    "while True:\n",
    "    check = input(\"Enter a word to predict (exit to stop): \")\n",
    "    if check.lower() == 'exit':\n",
    "        break\n",
    "    \n",
    "    next_word = predict_next_word(check)\n",
    "    if next_word:\n",
    "        print(f\"Next word prediction for '{check}': {next_word}\")\n",
    "    else:\n",
    "        print(f\"No predictions available for the word '{check}'.\")\n",
    "\n",
    "print(\"Exited prediction loop.\")"
   ]
  },
  {
   "cell_type": "code",
   "execution_count": null,
   "id": "69fcf635-3623-47ad-bfb1-bf559fc26aa4",
   "metadata": {},
   "outputs": [],
   "source": []
  },
  {
   "cell_type": "code",
   "execution_count": null,
   "id": "78e885e6-029d-49cf-9a6c-97e585fe04fe",
   "metadata": {},
   "outputs": [],
   "source": []
  },
  {
   "cell_type": "code",
   "execution_count": null,
   "id": "29a9bda9-48e2-45c8-8e9e-6eeb2dd6ff83",
   "metadata": {},
   "outputs": [],
   "source": []
  }
 ],
 "metadata": {
  "kernelspec": {
   "display_name": "Python 3 (ipykernel)",
   "language": "python",
   "name": "python3"
  },
  "language_info": {
   "codemirror_mode": {
    "name": "ipython",
    "version": 3
   },
   "file_extension": ".py",
   "mimetype": "text/x-python",
   "name": "python",
   "nbconvert_exporter": "python",
   "pygments_lexer": "ipython3",
   "version": "3.12.3"
  }
 },
 "nbformat": 4,
 "nbformat_minor": 5
}
